{
  "nbformat": 4,
  "nbformat_minor": 0,
  "metadata": {
    "colab": {
      "name": "SH3_MODELING_utils.ipynb",
      "provenance": [],
      "collapsed_sections": []
    },
    "kernelspec": {
      "name": "python3",
      "display_name": "Python 3"
    },
    "language_info": {
      "name": "python"
    }
  },
  "cells": [
    {
      "cell_type": "code",
      "execution_count": 15,
      "metadata": {
        "colab": {
          "base_uri": "https://localhost:8080/"
        },
        "id": "KIDDbb9yBNAM",
        "outputId": "5f0a5c51-3e5f-4039-ef63-f5c369f761c4"
      },
      "outputs": [
        {
          "output_type": "stream",
          "name": "stdout",
          "text": [
            "Looking in indexes: https://pypi.org/simple, https://us-python.pkg.dev/colab-wheels/public/simple/\n",
            "Requirement already satisfied: Bio in /usr/local/lib/python3.7/dist-packages (1.3.9)\n",
            "Requirement already satisfied: mygene in /usr/local/lib/python3.7/dist-packages (from Bio) (3.2.2)\n",
            "Requirement already satisfied: tqdm in /usr/local/lib/python3.7/dist-packages (from Bio) (4.64.0)\n",
            "Requirement already satisfied: requests in /usr/local/lib/python3.7/dist-packages (from Bio) (2.23.0)\n",
            "Requirement already satisfied: biopython>=1.79 in /usr/local/lib/python3.7/dist-packages (from Bio) (1.79)\n",
            "Requirement already satisfied: numpy in /usr/local/lib/python3.7/dist-packages (from biopython>=1.79->Bio) (1.21.6)\n",
            "Requirement already satisfied: biothings-client>=0.2.6 in /usr/local/lib/python3.7/dist-packages (from mygene->Bio) (0.2.6)\n",
            "Requirement already satisfied: chardet<4,>=3.0.2 in /usr/local/lib/python3.7/dist-packages (from requests->Bio) (3.0.4)\n",
            "Requirement already satisfied: certifi>=2017.4.17 in /usr/local/lib/python3.7/dist-packages (from requests->Bio) (2022.5.18.1)\n",
            "Requirement already satisfied: urllib3!=1.25.0,!=1.25.1,<1.26,>=1.21.1 in /usr/local/lib/python3.7/dist-packages (from requests->Bio) (1.24.3)\n",
            "Requirement already satisfied: idna<3,>=2.5 in /usr/local/lib/python3.7/dist-packages (from requests->Bio) (2.10)\n"
          ]
        }
      ],
      "source": [
        "!pip install Bio"
      ]
    },
    {
      "cell_type": "code",
      "source": [
        "from google.colab import drive\n",
        "drive.mount('/content/drive')"
      ],
      "metadata": {
        "colab": {
          "base_uri": "https://localhost:8080/"
        },
        "id": "K5teq-hhEhLu",
        "outputId": "9a071200-7a66-4dc2-ddcb-3b4a79f2c41c"
      },
      "execution_count": 16,
      "outputs": [
        {
          "output_type": "stream",
          "name": "stdout",
          "text": [
            "Drive already mounted at /content/drive; to attempt to forcibly remount, call drive.mount(\"/content/drive\", force_remount=True).\n"
          ]
        }
      ]
    },
    {
      "cell_type": "code",
      "source": [
        "from Bio.PDB import *\n",
        "import numpy as np\n",
        "import os\n",
        "from tqdm import tqdm"
      ],
      "metadata": {
        "id": "rx8R2aLJEkGD"
      },
      "execution_count": null,
      "outputs": []
    },
    {
      "cell_type": "code",
      "source": [
        "MAX_LENGTH_D = 130\n",
        "MAX_LENGTH_P = 30\n",
        "TOTAL_lENGTH = MAX_LENGTH_D + MAX_LENGTH_P\n",
        "\n",
        "AA_DICT = {\"A\": 0, \"C\": 1, \"D\": 2, \"E\": 3, \"F\": 4, \"G\": 5, \"H\": 6, \"I\": 7, \"K\": 8, \"L\": 9, \"M\": 10, \"N\": 11,\n",
        "           \"P\": 12, \"Q\": 13, \"R\": 14, \"S\": 15, \"T\": 16, \"W\": 17, \"Y\": 18, \"V\": 19, \"X\": 20, \"-\": 21}\n",
        "UNIQE_AA = {\"UNK\": \"X\", \"TYS\": \"Y\", \"FME\": \"M\", \"PCA\": \"Q\", \"CSD\":\"C\", \"MLY\":\"K\", \"SEP\":\"S\", \"YCM\":\"C\", \"CSX\": \"C\", \"NEP\":\"H\", \"IAS\":\"D\", \"MSE\":\"M\",\"IPG\":\"G\", \"NMC\" : \"G\", \"PTR\": \"Y\"}\n",
        "FEATURE_NUM = len(AA_DICT) +2\n",
        "BACKBONE_ATOMS = [\"N\", \"CA\", \"C\", \"O\", \"CB\"]\n",
        "OUTPUT_SIZE = len(BACKBONE_ATOMS) * 3\n",
        "DOMAIN_CHAIN = \"A\"\n",
        "P_CHAIN = \"B\"\n",
        "D_COL = 22\n",
        "P_COL = 23"
      ],
      "metadata": {
        "id": "fpZBD815EmGt"
      },
      "execution_count": 18,
      "outputs": []
    },
    {
      "cell_type": "code",
      "source": [
        "def get_seq_aa(pdb_file, chain_id):\n",
        "    \"\"\"\n",
        "    returns the sequence (String) and a list of all the aa residue objects of the given protein chain.\n",
        "    :param pdb_file: path to a pdb file\n",
        "    :param chain_id: chain letter (char)\n",
        "    :return: sequence, [aa objects]\n",
        "    \"\"\"\n",
        "    # load model\n",
        "    print(pdb_file)\n",
        "    chain = PDBParser(QUIET=True).get_structure(pdb_file, pdb_file)[0][chain_id]\n",
        "\n",
        "    aa_residues = []\n",
        "    seq = \"\"\n",
        "\n",
        "    for residue in chain.get_residues():\n",
        "        aa = residue.get_resname()\n",
        "        if not is_aa(aa) or not residue.has_id('CA'): # Not amino acid\n",
        "            continue\n",
        "        elif aa in UNIQE_AA:  # unkown amino acid\n",
        "            seq += UNIQE_AA[aa]\n",
        "        else:\n",
        "            seq += Polypeptide.three_to_one(residue.get_resname())\n",
        "        aa_residues.append(residue)\n",
        "\n",
        "    return seq, aa_residues"
      ],
      "metadata": {
        "id": "XNO2yy-XG3RF"
      },
      "execution_count": 20,
      "outputs": []
    },
    {
      "cell_type": "code",
      "source": [
        "def generate_input(pdb_file): # TODO: implement this!\n",
        "    \"\"\"\n",
        "    receives a pdb file and returns its sequence in a one-hot encoding matrix (each row is an aa in the sequence, and\n",
        "    each column represents a different aa out of the 20 aa + 2 special columns).\n",
        "    :param pdb_file: path to a pdb file (nanobody, heavy chain has id 'H')\n",
        "    :return: numpy array of shape (NB_MAX_LENGTH, FEATURE_NUM)\n",
        "    \"\"\"\n",
        "\n",
        "    # get seq and aa residues\n",
        "    seqD, _ = get_seq_aa(pdb_file, DOMAIN_CHAIN)\n",
        "    seqP, _ = get_seq_aa(pdb_file, P_CHAIN)\n",
        "    input_mat = np.zeros([MAX_LENGTH_D + MAX_LENGTH_P,FEATURE_NUM],dtype=int)\n",
        "\n",
        "\n",
        "    for i,aa in enumerate(seqD):\n",
        "      input_mat[i,AA_DICT[aa]] = 1\n",
        "      input_mat[i,D_COL] = 1\n",
        "\n",
        "    for i,aa in enumerate(seqP):\n",
        "      input_mat[i+MAX_LENGTH_D,AA_DICT[aa]] = 1\n",
        "      input_mat[i+MAX_LENGTH_D,P_COL] = 1\n",
        "      \n",
        "    for i in range(len(seqD),MAX_LENGTH_D):\n",
        "      input_mat[i,AA_DICT['-']] = 1\n",
        "      input_mat[i,D_COL] = 1\n",
        "\n",
        "    for i in range(len(seqP)+MAX_LENGTH_D,MAX_LENGTH_P+MAX_LENGTH_D):\n",
        "      input_mat[i,AA_DICT['-']] = 1\n",
        "      input_mat[i,P_COL] = 1\n",
        "    return input_mat"
      ],
      "metadata": {
        "id": "3v5O-JtgHCnE"
      },
      "execution_count": null,
      "outputs": []
    },
    {
      "cell_type": "code",
      "source": [
        "def generate_label(pdb_file):  # TODO: implement this!\n",
        "    \"\"\"\n",
        "    receives a pdb file and returns its backbone + CB coordinates.\n",
        "    :param pdb_file: path to a pdb file  already alingned to a reference.\n",
        "    :return: numpy array of shape (CDR_MAX_LENGTH, OUTPUT_SIZE).\n",
        "    \"\"\"\n",
        "    # get seq and aa residues\n",
        "    label_mat = np.zeros([MAX_LENGTH_D+MAX_LENGTH_P, OUTPUT_SIZE])\n",
        "\n",
        "    seqD, aa_residues_D = get_seq_aa(pdb_file, DOMAIN_CHAIN )\n",
        "    for i,res in enumerate(aa_residues_D):\n",
        "      for atom in res.get_atoms():\n",
        "        if atom.name == BACKBONE_ATOMS[0]:\n",
        "          label_mat[i,0:3] = list(atom.get_vector())\n",
        "        elif atom.name == BACKBONE_ATOMS[1]:\n",
        "          label_mat[i,3:6] = list(atom.get_vector())\n",
        "        elif atom.name ==  BACKBONE_ATOMS[2]:\n",
        "          label_mat[i,6:9] = list(atom.get_vector())\n",
        "        elif atom.name == BACKBONE_ATOMS[3]:\n",
        "          label_mat[i,9:12] = list(atom.get_vector())\n",
        "        elif atom.name == BACKBONE_ATOMS[4] and res.get_resname() != 'G':\n",
        "          label_mat[i,12:15] = list(atom.get_vector())\n",
        "\n",
        "    seqP, aa_residues_P = get_seq_aa(pdb_file, P_CHAIN )\n",
        "    for i,res in enumerate(aa_residues_P):\n",
        "      for atom in res.get_atoms():\n",
        "        if atom.name == BACKBONE_ATOMS[0]:\n",
        "          label_mat[i+MAX_LENGTH_D,0:3] = list(atom.get_vector())\n",
        "        elif atom.name == BACKBONE_ATOMS[1]:\n",
        "          label_mat[i+MAX_LENGTH_D,3:6] = list(atom.get_vector())\n",
        "        elif atom.name ==  BACKBONE_ATOMS[2]:\n",
        "          label_mat[i+MAX_LENGTH_D,6:9] = list(atom.get_vector())\n",
        "        elif atom.name == BACKBONE_ATOMS[3]:\n",
        "          label_mat[i+MAX_LENGTH_D,9:12] = list(atom.get_vector())\n",
        "        elif atom.name == BACKBONE_ATOMS[4] and res.get_resname() != 'G':\n",
        "          label_mat[i+MAX_LENGTH_D,12:15] = list(atom.get_vector())\n",
        "    \n",
        "    return label_mat"
      ],
      "metadata": {
        "id": "8w8AJ6AIO2nZ"
      },
      "execution_count": null,
      "outputs": []
    },
    {
      "cell_type": "code",
      "source": [
        "from re import T\n",
        "def matrix_to_pdb(seq_D, seq_P, coord_matrix, pdb_name):\n",
        "    \"\"\"\n",
        "    Receives a sequence (String) and the output matrix of the neural network (coord_matrix, numpy array)\n",
        "    and creates from them a PDB file named pdb_name.pdb.\n",
        "    :param seq: protein sequence (String), with no padding\n",
        "    :param coord_matrix: output np array of the nanobody neural network, shape = (NB_MAX_LENGTH, OUTPUT_SIZE)\n",
        "    :param pdb_name: name of the output PDB file (String)\n",
        "    \"\"\"\n",
        "    ATOM_LINE = \"ATOM{}{}  {}{}{} {}{}{}{}{:.3f}{}{:.3f}{}{:.3f}  1.00{}{:.2f}           {}\\n\"\n",
        "    END_LINE = \"END\\n\"\n",
        "    k = 1\n",
        "    with open(f\"{pdb_name}.pdb\", \"w\") as pdb_file:\n",
        "        for i, aa in enumerate(seq_D):\n",
        "            third_space = (4 - len(str(i))) * \" \"\n",
        "            for j, atom in enumerate(BACKBONE_ATOMS):\n",
        "                if not (aa == \"G\" and atom == \"CB\"):  # GLY lacks CB atom\n",
        "                    x, y, z = coord_matrix[i][3*j], coord_matrix[i][3*j+1], coord_matrix[i][3*j+2]\n",
        "                    b_factor = 0.00\n",
        "                    first_space = (7 - len(str(k))) * \" \"\n",
        "                    second_space = (4 - len(atom)) * \" \"\n",
        "                    forth_space = (12 - len(\"{:.3f}\".format(x))) * \" \"\n",
        "                    fifth_space = (8 - len(\"{:.3f}\".format(y))) * \" \"\n",
        "                    sixth_space = (8 - len(\"{:.3f}\".format(z))) * \" \"\n",
        "                    seventh_space = (6 - len(\"{:.2f}\".format(b_factor))) * \" \"\n",
        "\n",
        "                    pdb_file.write(ATOM_LINE.format(first_space, k, atom, second_space, Polypeptide.one_to_three(aa) , \"A\", third_space, \n",
        "                                                    i, forth_space, x, fifth_space, y, sixth_space, z, seventh_space,\n",
        "                                                    b_factor, atom[0]))\n",
        "                    k += 1\n",
        "        for t, aa in enumerate(seq_P):\n",
        "            third_space = (4 - len(str(t))) * \" \"\n",
        "            for l, atom in enumerate(BACKBONE_ATOMS):\n",
        "                if not (aa == \"G\" and atom == \"CB\"):  # GLY lacks CB atom\n",
        "                    x, y, z = coord_matrix[t+MAX_LENGTH_D][3*l], coord_matrix[t+MAX_LENGTH_D][3*l+1], coord_matrix[t+MAX_LENGTH_D][3*l+2]\n",
        "                    b_factor = 0.00\n",
        "                    first_space = (7 - len(str(k))) * \" \"\n",
        "                    second_space = (4 - len(atom)) * \" \"\n",
        "                    forth_space = (12 - len(\"{:.3f}\".format(x))) * \" \"\n",
        "                    fifth_space = (8 - len(\"{:.3f}\".format(y))) * \" \"\n",
        "                    sixth_space = (8 - len(\"{:.3f}\".format(z))) * \" \"\n",
        "                    seventh_space = (6 - len(\"{:.2f}\".format(b_factor))) * \" \"\n",
        "\n",
        "                    pdb_file.write(ATOM_LINE.format(first_space, k, atom, second_space, Polypeptide.one_to_three(aa) , \"B\", third_space, \n",
        "                                                    t, forth_space, x, fifth_space, y, sixth_space, z, seventh_space,\n",
        "                                                    b_factor, atom[0]))\n",
        "                    k += 1\n",
        "          \n",
        "\n",
        "        pdb_file.write(END_LINE)"
      ],
      "metadata": {
        "id": "YUgynES_QYBf"
      },
      "execution_count": null,
      "outputs": []
    },
    {
      "cell_type": "code",
      "source": [
        "if __name__ == '__main__':\n",
        "    \n",
        "   #  you can make all the data for the network in this section.\n",
        "   # you can save the matrices to your drive and load them in your google colab file later.\n",
        "\n",
        "\n",
        "    input_matrix = []\n",
        "    labels_matrix = []\n",
        "    data_path = \"/content/drive/MyDrive/3D protein Hackathon/test_pdbs/\"  # TODO: change path if needed\n",
        "    \n",
        "    for pdb in tqdm(os.listdir(data_path)):\n",
        "        if pdb.endswith(\".pdb\"):\n",
        "\n",
        "          nb_one_hot = generate_input(os.path.join(data_path, pdb))\n",
        "          nb_xyz = generate_label(os.path.join(data_path, pdb))\n",
        "      \n",
        "          input_matrix.append(nb_one_hot)\n",
        "          labels_matrix.append(nb_xyz)\n",
        "\n",
        "    save_path = \"/content/drive/MyDrive/3D protein Hackathon/\"  # TODO: change path if needed\n",
        "\n",
        "    np.save(f\"{save_path}/test_input.npy\", np.array(input_matrix))\n",
        "    np.save(f\"{save_path}/test_labels.npy\", np.array(labels_matrix))\n",
        "\n",
        "    print(f\"Number of samples: {len(input_matrix)}\")"
      ],
      "metadata": {
        "colab": {
          "base_uri": "https://localhost:8080/"
        },
        "id": "jqKTcG20XE-C",
        "outputId": "6172dcd7-b02a-4222-dfef-7407dadf8d88"
      },
      "execution_count": 24,
      "outputs": [
        {
          "output_type": "stream",
          "name": "stderr",
          "text": [
            "\r  0%|          | 0/12 [00:00<?, ?it/s]"
          ]
        },
        {
          "output_type": "stream",
          "name": "stdout",
          "text": [
            "/content/drive/MyDrive/3D protein Hackathon/test_pdbs/pdb6atv.pdb\n"
          ]
        },
        {
          "output_type": "stream",
          "name": "stderr",
          "text": [
            "\r  8%|▊         | 1/12 [00:00<00:03,  3.63it/s]"
          ]
        },
        {
          "output_type": "stream",
          "name": "stdout",
          "text": [
            "/content/drive/MyDrive/3D protein Hackathon/test_pdbs/pdb6atv.pdb\n",
            "/content/drive/MyDrive/3D protein Hackathon/test_pdbs/pdb6atv.pdb\n",
            "/content/drive/MyDrive/3D protein Hackathon/test_pdbs/pdb6atv.pdb\n",
            "/content/drive/MyDrive/3D protein Hackathon/test_pdbs/pdb4u5w.pdb\n"
          ]
        },
        {
          "output_type": "stream",
          "name": "stderr",
          "text": [
            "\r 17%|█▋        | 2/12 [00:00<00:02,  4.26it/s]"
          ]
        },
        {
          "output_type": "stream",
          "name": "stdout",
          "text": [
            "/content/drive/MyDrive/3D protein Hackathon/test_pdbs/pdb4u5w.pdb\n",
            "/content/drive/MyDrive/3D protein Hackathon/test_pdbs/pdb4u5w.pdb\n",
            "/content/drive/MyDrive/3D protein Hackathon/test_pdbs/pdb4u5w.pdb\n",
            "/content/drive/MyDrive/3D protein Hackathon/test_pdbs/pdb3rea.pdb\n"
          ]
        },
        {
          "output_type": "stream",
          "name": "stderr",
          "text": [
            "\r 25%|██▌       | 3/12 [00:00<00:02,  3.20it/s]"
          ]
        },
        {
          "output_type": "stream",
          "name": "stdout",
          "text": [
            "/content/drive/MyDrive/3D protein Hackathon/test_pdbs/pdb3rea.pdb\n",
            "/content/drive/MyDrive/3D protein Hackathon/test_pdbs/pdb3rea.pdb\n",
            "/content/drive/MyDrive/3D protein Hackathon/test_pdbs/pdb3rea.pdb\n",
            "/content/drive/MyDrive/3D protein Hackathon/test_pdbs/pdb1qwe.pdb\n",
            "/content/drive/MyDrive/3D protein Hackathon/test_pdbs/pdb1qwe.pdb\n"
          ]
        },
        {
          "output_type": "stream",
          "name": "stderr",
          "text": [
            "\r 33%|███▎      | 4/12 [00:01<00:02,  3.59it/s]"
          ]
        },
        {
          "output_type": "stream",
          "name": "stdout",
          "text": [
            "/content/drive/MyDrive/3D protein Hackathon/test_pdbs/pdb1qwe.pdb\n",
            "/content/drive/MyDrive/3D protein Hackathon/test_pdbs/pdb1qwe.pdb\n",
            "/content/drive/MyDrive/3D protein Hackathon/test_pdbs/pdb1rlp.pdb\n"
          ]
        },
        {
          "output_type": "stream",
          "name": "stderr",
          "text": [
            "\r 42%|████▏     | 5/12 [00:01<00:02,  3.46it/s]"
          ]
        },
        {
          "output_type": "stream",
          "name": "stdout",
          "text": [
            "/content/drive/MyDrive/3D protein Hackathon/test_pdbs/pdb1rlp.pdb\n",
            "/content/drive/MyDrive/3D protein Hackathon/test_pdbs/pdb1rlp.pdb\n",
            "/content/drive/MyDrive/3D protein Hackathon/test_pdbs/pdb1rlp.pdb\n",
            "/content/drive/MyDrive/3D protein Hackathon/test_pdbs/pdb2rqw.pdb\n"
          ]
        },
        {
          "output_type": "stream",
          "name": "stderr",
          "text": [
            "\r 50%|█████     | 6/12 [00:01<00:01,  3.07it/s]"
          ]
        },
        {
          "output_type": "stream",
          "name": "stdout",
          "text": [
            "/content/drive/MyDrive/3D protein Hackathon/test_pdbs/pdb2rqw.pdb\n",
            "/content/drive/MyDrive/3D protein Hackathon/test_pdbs/pdb2rqw.pdb\n",
            "/content/drive/MyDrive/3D protein Hackathon/test_pdbs/pdb2rqw.pdb\n",
            "/content/drive/MyDrive/3D protein Hackathon/test_pdbs/pdb4afs.pdb\n"
          ]
        },
        {
          "output_type": "stream",
          "name": "stderr",
          "text": [
            "\r 58%|█████▊    | 7/12 [00:02<00:01,  3.51it/s]"
          ]
        },
        {
          "output_type": "stream",
          "name": "stdout",
          "text": [
            "/content/drive/MyDrive/3D protein Hackathon/test_pdbs/pdb4afs.pdb\n",
            "/content/drive/MyDrive/3D protein Hackathon/test_pdbs/pdb4afs.pdb\n",
            "/content/drive/MyDrive/3D protein Hackathon/test_pdbs/pdb4afs.pdb\n",
            "/content/drive/MyDrive/3D protein Hackathon/test_pdbs/pdb4j9f.pdb\n"
          ]
        },
        {
          "output_type": "stream",
          "name": "stderr",
          "text": [
            "\r 67%|██████▋   | 8/12 [00:02<00:01,  3.42it/s]"
          ]
        },
        {
          "output_type": "stream",
          "name": "stdout",
          "text": [
            "/content/drive/MyDrive/3D protein Hackathon/test_pdbs/pdb4j9f.pdb\n",
            "/content/drive/MyDrive/3D protein Hackathon/test_pdbs/pdb4j9f.pdb\n",
            "/content/drive/MyDrive/3D protein Hackathon/test_pdbs/pdb4j9f.pdb\n",
            "/content/drive/MyDrive/3D protein Hackathon/test_pdbs/pdb2oi3.pdb\n"
          ]
        },
        {
          "output_type": "stream",
          "name": "stderr",
          "text": [
            "\r 75%|███████▌  | 9/12 [00:02<00:00,  3.26it/s]"
          ]
        },
        {
          "output_type": "stream",
          "name": "stdout",
          "text": [
            "/content/drive/MyDrive/3D protein Hackathon/test_pdbs/pdb2oi3.pdb\n",
            "/content/drive/MyDrive/3D protein Hackathon/test_pdbs/pdb2oi3.pdb\n",
            "/content/drive/MyDrive/3D protein Hackathon/test_pdbs/pdb2oi3.pdb\n",
            "/content/drive/MyDrive/3D protein Hackathon/test_pdbs/pdb1jqq.pdb\n"
          ]
        },
        {
          "output_type": "stream",
          "name": "stderr",
          "text": [
            "\r 83%|████████▎ | 10/12 [00:02<00:00,  3.68it/s]"
          ]
        },
        {
          "output_type": "stream",
          "name": "stdout",
          "text": [
            "/content/drive/MyDrive/3D protein Hackathon/test_pdbs/pdb1jqq.pdb\n",
            "/content/drive/MyDrive/3D protein Hackathon/test_pdbs/pdb1jqq.pdb\n",
            "/content/drive/MyDrive/3D protein Hackathon/test_pdbs/pdb1jqq.pdb\n",
            "/content/drive/MyDrive/3D protein Hackathon/test_pdbs/pdb1b07.pdb\n"
          ]
        },
        {
          "output_type": "stream",
          "name": "stderr",
          "text": [
            "\r 92%|█████████▏| 11/12 [00:03<00:00,  3.56it/s]"
          ]
        },
        {
          "output_type": "stream",
          "name": "stdout",
          "text": [
            "/content/drive/MyDrive/3D protein Hackathon/test_pdbs/pdb1b07.pdb\n",
            "/content/drive/MyDrive/3D protein Hackathon/test_pdbs/pdb1b07.pdb\n",
            "/content/drive/MyDrive/3D protein Hackathon/test_pdbs/pdb1b07.pdb\n",
            "/content/drive/MyDrive/3D protein Hackathon/test_pdbs/pdb1avz.pdb\n"
          ]
        },
        {
          "output_type": "stream",
          "name": "stderr",
          "text": [
            "100%|██████████| 12/12 [00:03<00:00,  3.43it/s]"
          ]
        },
        {
          "output_type": "stream",
          "name": "stdout",
          "text": [
            "/content/drive/MyDrive/3D protein Hackathon/test_pdbs/pdb1avz.pdb\n",
            "/content/drive/MyDrive/3D protein Hackathon/test_pdbs/pdb1avz.pdb\n",
            "/content/drive/MyDrive/3D protein Hackathon/test_pdbs/pdb1avz.pdb\n",
            "Number of samples: 12\n"
          ]
        },
        {
          "output_type": "stream",
          "name": "stderr",
          "text": [
            "\n"
          ]
        }
      ]
    }
  ]
}